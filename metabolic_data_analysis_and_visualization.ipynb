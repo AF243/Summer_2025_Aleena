{
 "cells": [
  {
   "cell_type": "markdown",
   "id": "dce228ad",
   "metadata": {},
   "source": [
    "## Load the Dataset"
   ]
  },
  {
   "cell_type": "code",
   "execution_count": 1,
   "id": "6a07efa5",
   "metadata": {},
   "outputs": [
    {
     "data": {
      "text/html": [
       "<div>\n",
       "<style scoped>\n",
       "    .dataframe tbody tr th:only-of-type {\n",
       "        vertical-align: middle;\n",
       "    }\n",
       "\n",
       "    .dataframe tbody tr th {\n",
       "        vertical-align: top;\n",
       "    }\n",
       "\n",
       "    .dataframe thead th {\n",
       "        text-align: right;\n",
       "    }\n",
       "</style>\n",
       "<table border=\"1\" class=\"dataframe\">\n",
       "  <thead>\n",
       "    <tr style=\"text-align: right;\">\n",
       "      <th></th>\n",
       "      <th>Metabolite</th>\n",
       "      <th>Condition</th>\n",
       "      <th>Replicate</th>\n",
       "      <th>Concentration</th>\n",
       "      <th>Units</th>\n",
       "    </tr>\n",
       "  </thead>\n",
       "  <tbody>\n",
       "    <tr>\n",
       "      <th>0</th>\n",
       "      <td>Metabolite1</td>\n",
       "      <td>Control</td>\n",
       "      <td>1</td>\n",
       "      <td>80.281301</td>\n",
       "      <td>μM</td>\n",
       "    </tr>\n",
       "    <tr>\n",
       "      <th>1</th>\n",
       "      <td>Metabolite1</td>\n",
       "      <td>Control</td>\n",
       "      <td>2</td>\n",
       "      <td>84.658008</td>\n",
       "      <td>μM</td>\n",
       "    </tr>\n",
       "    <tr>\n",
       "      <th>2</th>\n",
       "      <td>Metabolite1</td>\n",
       "      <td>Control</td>\n",
       "      <td>3</td>\n",
       "      <td>75.872092</td>\n",
       "      <td>μM</td>\n",
       "    </tr>\n",
       "    <tr>\n",
       "      <th>3</th>\n",
       "      <td>Metabolite1</td>\n",
       "      <td>Control</td>\n",
       "      <td>4</td>\n",
       "      <td>75.872174</td>\n",
       "      <td>μM</td>\n",
       "    </tr>\n",
       "    <tr>\n",
       "      <th>4</th>\n",
       "      <td>Metabolite1</td>\n",
       "      <td>Control</td>\n",
       "      <td>5</td>\n",
       "      <td>84.938922</td>\n",
       "      <td>μM</td>\n",
       "    </tr>\n",
       "  </tbody>\n",
       "</table>\n",
       "</div>"
      ],
      "text/plain": [
       "    Metabolite Condition  Replicate  Concentration Units\n",
       "0  Metabolite1   Control          1      80.281301    μM\n",
       "1  Metabolite1   Control          2      84.658008    μM\n",
       "2  Metabolite1   Control          3      75.872092    μM\n",
       "3  Metabolite1   Control          4      75.872174    μM\n",
       "4  Metabolite1   Control          5      84.938922    μM"
      ]
     },
     "execution_count": 1,
     "metadata": {},
     "output_type": "execute_result"
    }
   ],
   "source": [
    "import pandas as pd\n",
    "''' Function to load dataset'''\n",
    "def load_data(file_path):\n",
    " data=pd.read_csv(file_path)\n",
    " return data\n",
    "\n",
    "df=load_data('metabolic_dataset.csv')\n",
    "df.head(5)"
   ]
  },
  {
   "cell_type": "markdown",
   "id": "e82659bb",
   "metadata": {},
   "source": [
    "## Handle Missing Values"
   ]
  },
  {
   "cell_type": "code",
   "execution_count": 2,
   "id": "33b802a1",
   "metadata": {},
   "outputs": [
    {
     "name": "stdout",
     "output_type": "stream",
     "text": [
      "Metabolite       0\n",
      "Condition        0\n",
      "Replicate        0\n",
      "Concentration    5\n",
      "Units            0\n",
      "dtype: int64\n"
     ]
    },
    {
     "data": {
      "text/html": [
       "<div>\n",
       "<style scoped>\n",
       "    .dataframe tbody tr th:only-of-type {\n",
       "        vertical-align: middle;\n",
       "    }\n",
       "\n",
       "    .dataframe tbody tr th {\n",
       "        vertical-align: top;\n",
       "    }\n",
       "\n",
       "    .dataframe thead th {\n",
       "        text-align: right;\n",
       "    }\n",
       "</style>\n",
       "<table border=\"1\" class=\"dataframe\">\n",
       "  <thead>\n",
       "    <tr style=\"text-align: right;\">\n",
       "      <th></th>\n",
       "      <th>Metabolite</th>\n",
       "      <th>Condition</th>\n",
       "      <th>Replicate</th>\n",
       "      <th>Concentration</th>\n",
       "      <th>Units</th>\n",
       "    </tr>\n",
       "  </thead>\n",
       "  <tbody>\n",
       "    <tr>\n",
       "      <th>0</th>\n",
       "      <td>Metabolite1</td>\n",
       "      <td>Control</td>\n",
       "      <td>1</td>\n",
       "      <td>80.281301</td>\n",
       "      <td>μM</td>\n",
       "    </tr>\n",
       "    <tr>\n",
       "      <th>1</th>\n",
       "      <td>Metabolite1</td>\n",
       "      <td>Control</td>\n",
       "      <td>2</td>\n",
       "      <td>84.658008</td>\n",
       "      <td>μM</td>\n",
       "    </tr>\n",
       "    <tr>\n",
       "      <th>2</th>\n",
       "      <td>Metabolite1</td>\n",
       "      <td>Control</td>\n",
       "      <td>3</td>\n",
       "      <td>75.872092</td>\n",
       "      <td>μM</td>\n",
       "    </tr>\n",
       "    <tr>\n",
       "      <th>3</th>\n",
       "      <td>Metabolite1</td>\n",
       "      <td>Control</td>\n",
       "      <td>4</td>\n",
       "      <td>75.872174</td>\n",
       "      <td>μM</td>\n",
       "    </tr>\n",
       "    <tr>\n",
       "      <th>4</th>\n",
       "      <td>Metabolite1</td>\n",
       "      <td>Control</td>\n",
       "      <td>5</td>\n",
       "      <td>84.938922</td>\n",
       "      <td>μM</td>\n",
       "    </tr>\n",
       "    <tr>\n",
       "      <th>...</th>\n",
       "      <td>...</td>\n",
       "      <td>...</td>\n",
       "      <td>...</td>\n",
       "      <td>...</td>\n",
       "      <td>...</td>\n",
       "    </tr>\n",
       "    <tr>\n",
       "      <th>95</th>\n",
       "      <td>Metabolite10</td>\n",
       "      <td>Treatment</td>\n",
       "      <td>1</td>\n",
       "      <td>94.497348</td>\n",
       "      <td>μM</td>\n",
       "    </tr>\n",
       "    <tr>\n",
       "      <th>96</th>\n",
       "      <td>Metabolite10</td>\n",
       "      <td>Treatment</td>\n",
       "      <td>2</td>\n",
       "      <td>81.219333</td>\n",
       "      <td>μM</td>\n",
       "    </tr>\n",
       "    <tr>\n",
       "      <th>97</th>\n",
       "      <td>Metabolite10</td>\n",
       "      <td>Treatment</td>\n",
       "      <td>3</td>\n",
       "      <td>83.688874</td>\n",
       "      <td>μM</td>\n",
       "    </tr>\n",
       "    <tr>\n",
       "      <th>98</th>\n",
       "      <td>Metabolite10</td>\n",
       "      <td>Treatment</td>\n",
       "      <td>4</td>\n",
       "      <td>82.007579</td>\n",
       "      <td>μM</td>\n",
       "    </tr>\n",
       "    <tr>\n",
       "      <th>99</th>\n",
       "      <td>Metabolite10</td>\n",
       "      <td>Treatment</td>\n",
       "      <td>5</td>\n",
       "      <td>76.337747</td>\n",
       "      <td>μM</td>\n",
       "    </tr>\n",
       "  </tbody>\n",
       "</table>\n",
       "<p>100 rows × 5 columns</p>\n",
       "</div>"
      ],
      "text/plain": [
       "      Metabolite  Condition  Replicate  Concentration Units\n",
       "0    Metabolite1    Control          1      80.281301    μM\n",
       "1    Metabolite1    Control          2      84.658008    μM\n",
       "2    Metabolite1    Control          3      75.872092    μM\n",
       "3    Metabolite1    Control          4      75.872174    μM\n",
       "4    Metabolite1    Control          5      84.938922    μM\n",
       "..           ...        ...        ...            ...   ...\n",
       "95  Metabolite10  Treatment          1      94.497348    μM\n",
       "96  Metabolite10  Treatment          2      81.219333    μM\n",
       "97  Metabolite10  Treatment          3      83.688874    μM\n",
       "98  Metabolite10  Treatment          4      82.007579    μM\n",
       "99  Metabolite10  Treatment          5      76.337747    μM\n",
       "\n",
       "[100 rows x 5 columns]"
      ]
     },
     "execution_count": 2,
     "metadata": {},
     "output_type": "execute_result"
    }
   ],
   "source": [
    "'''Function to check missing values'''\n",
    "def handle_missing_values(data):\n",
    "    print(data.isnull().sum())                   #check for missing values\n",
    "    def fill_missing_values(group):              #function to fill missing values\n",
    "        return group.fillna(group.median())\n",
    "     # to fill missing values with median concentration   \n",
    "    data['Concentration']= data.groupby(['Metabolite','Condition'])['Concentration'].transform(fill_missing_values)\n",
    "    return data\n",
    "\n",
    "handle_missing_values(df)    "
   ]
  },
  {
   "cell_type": "markdown",
   "id": "d06b25b2",
   "metadata": {},
   "source": [
    "## Standardize Unit"
   ]
  },
  {
   "cell_type": "code",
   "execution_count": 3,
   "id": "8c6ef4be",
   "metadata": {},
   "outputs": [
    {
     "data": {
      "text/html": [
       "<div>\n",
       "<style scoped>\n",
       "    .dataframe tbody tr th:only-of-type {\n",
       "        vertical-align: middle;\n",
       "    }\n",
       "\n",
       "    .dataframe tbody tr th {\n",
       "        vertical-align: top;\n",
       "    }\n",
       "\n",
       "    .dataframe thead th {\n",
       "        text-align: right;\n",
       "    }\n",
       "</style>\n",
       "<table border=\"1\" class=\"dataframe\">\n",
       "  <thead>\n",
       "    <tr style=\"text-align: right;\">\n",
       "      <th></th>\n",
       "      <th>Metabolite</th>\n",
       "      <th>Condition</th>\n",
       "      <th>Replicate</th>\n",
       "      <th>Concentration</th>\n",
       "      <th>Units</th>\n",
       "    </tr>\n",
       "  </thead>\n",
       "  <tbody>\n",
       "    <tr>\n",
       "      <th>0</th>\n",
       "      <td>Metabolite1</td>\n",
       "      <td>Control</td>\n",
       "      <td>1</td>\n",
       "      <td>80.281301</td>\n",
       "      <td>uM</td>\n",
       "    </tr>\n",
       "    <tr>\n",
       "      <th>1</th>\n",
       "      <td>Metabolite1</td>\n",
       "      <td>Control</td>\n",
       "      <td>2</td>\n",
       "      <td>84.658008</td>\n",
       "      <td>uM</td>\n",
       "    </tr>\n",
       "    <tr>\n",
       "      <th>2</th>\n",
       "      <td>Metabolite1</td>\n",
       "      <td>Control</td>\n",
       "      <td>3</td>\n",
       "      <td>75.872092</td>\n",
       "      <td>uM</td>\n",
       "    </tr>\n",
       "    <tr>\n",
       "      <th>3</th>\n",
       "      <td>Metabolite1</td>\n",
       "      <td>Control</td>\n",
       "      <td>4</td>\n",
       "      <td>75.872174</td>\n",
       "      <td>uM</td>\n",
       "    </tr>\n",
       "    <tr>\n",
       "      <th>4</th>\n",
       "      <td>Metabolite1</td>\n",
       "      <td>Control</td>\n",
       "      <td>5</td>\n",
       "      <td>84.938922</td>\n",
       "      <td>uM</td>\n",
       "    </tr>\n",
       "    <tr>\n",
       "      <th>...</th>\n",
       "      <td>...</td>\n",
       "      <td>...</td>\n",
       "      <td>...</td>\n",
       "      <td>...</td>\n",
       "      <td>...</td>\n",
       "    </tr>\n",
       "    <tr>\n",
       "      <th>95</th>\n",
       "      <td>Metabolite10</td>\n",
       "      <td>Treatment</td>\n",
       "      <td>1</td>\n",
       "      <td>94.497348</td>\n",
       "      <td>uM</td>\n",
       "    </tr>\n",
       "    <tr>\n",
       "      <th>96</th>\n",
       "      <td>Metabolite10</td>\n",
       "      <td>Treatment</td>\n",
       "      <td>2</td>\n",
       "      <td>81.219333</td>\n",
       "      <td>uM</td>\n",
       "    </tr>\n",
       "    <tr>\n",
       "      <th>97</th>\n",
       "      <td>Metabolite10</td>\n",
       "      <td>Treatment</td>\n",
       "      <td>3</td>\n",
       "      <td>83.688874</td>\n",
       "      <td>uM</td>\n",
       "    </tr>\n",
       "    <tr>\n",
       "      <th>98</th>\n",
       "      <td>Metabolite10</td>\n",
       "      <td>Treatment</td>\n",
       "      <td>4</td>\n",
       "      <td>82.007579</td>\n",
       "      <td>uM</td>\n",
       "    </tr>\n",
       "    <tr>\n",
       "      <th>99</th>\n",
       "      <td>Metabolite10</td>\n",
       "      <td>Treatment</td>\n",
       "      <td>5</td>\n",
       "      <td>76.337747</td>\n",
       "      <td>uM</td>\n",
       "    </tr>\n",
       "  </tbody>\n",
       "</table>\n",
       "<p>100 rows × 5 columns</p>\n",
       "</div>"
      ],
      "text/plain": [
       "      Metabolite  Condition  Replicate  Concentration Units\n",
       "0    Metabolite1    Control          1      80.281301    uM\n",
       "1    Metabolite1    Control          2      84.658008    uM\n",
       "2    Metabolite1    Control          3      75.872092    uM\n",
       "3    Metabolite1    Control          4      75.872174    uM\n",
       "4    Metabolite1    Control          5      84.938922    uM\n",
       "..           ...        ...        ...            ...   ...\n",
       "95  Metabolite10  Treatment          1      94.497348    uM\n",
       "96  Metabolite10  Treatment          2      81.219333    uM\n",
       "97  Metabolite10  Treatment          3      83.688874    uM\n",
       "98  Metabolite10  Treatment          4      82.007579    uM\n",
       "99  Metabolite10  Treatment          5      76.337747    uM\n",
       "\n",
       "[100 rows x 5 columns]"
      ]
     },
     "execution_count": 3,
     "metadata": {},
     "output_type": "execute_result"
    }
   ],
   "source": [
    "def standardized_units(data):\n",
    "    mask=data['Units']=='mM'                #chk the mM units\n",
    "    df.loc[mask,'Concentration']*=1000      #multiply their concentration with 1000\n",
    "    data['Units']='uM'                      #change the unit to uM\n",
    "    return data\n",
    "\n",
    "standardized_units(df)    "
   ]
  },
  {
   "cell_type": "markdown",
   "id": "78acf84c",
   "metadata": {},
   "source": [
    "## Identify and Handle Outliers"
   ]
  },
  {
   "cell_type": "code",
   "execution_count": 4,
   "id": "85dc1d7c",
   "metadata": {},
   "outputs": [
    {
     "data": {
      "text/html": [
       "<div>\n",
       "<style scoped>\n",
       "    .dataframe tbody tr th:only-of-type {\n",
       "        vertical-align: middle;\n",
       "    }\n",
       "\n",
       "    .dataframe tbody tr th {\n",
       "        vertical-align: top;\n",
       "    }\n",
       "\n",
       "    .dataframe thead th {\n",
       "        text-align: right;\n",
       "    }\n",
       "</style>\n",
       "<table border=\"1\" class=\"dataframe\">\n",
       "  <thead>\n",
       "    <tr style=\"text-align: right;\">\n",
       "      <th></th>\n",
       "      <th>Metabolite</th>\n",
       "      <th>Condition</th>\n",
       "      <th>Replicate</th>\n",
       "      <th>Concentration</th>\n",
       "      <th>Units</th>\n",
       "    </tr>\n",
       "  </thead>\n",
       "  <tbody>\n",
       "    <tr>\n",
       "      <th>0</th>\n",
       "      <td>Metabolite1</td>\n",
       "      <td>Control</td>\n",
       "      <td>1</td>\n",
       "      <td>80.281301</td>\n",
       "      <td>uM</td>\n",
       "    </tr>\n",
       "    <tr>\n",
       "      <th>1</th>\n",
       "      <td>Metabolite1</td>\n",
       "      <td>Control</td>\n",
       "      <td>2</td>\n",
       "      <td>84.658008</td>\n",
       "      <td>uM</td>\n",
       "    </tr>\n",
       "    <tr>\n",
       "      <th>2</th>\n",
       "      <td>Metabolite1</td>\n",
       "      <td>Control</td>\n",
       "      <td>3</td>\n",
       "      <td>75.872092</td>\n",
       "      <td>uM</td>\n",
       "    </tr>\n",
       "    <tr>\n",
       "      <th>3</th>\n",
       "      <td>Metabolite1</td>\n",
       "      <td>Control</td>\n",
       "      <td>4</td>\n",
       "      <td>75.872174</td>\n",
       "      <td>uM</td>\n",
       "    </tr>\n",
       "    <tr>\n",
       "      <th>4</th>\n",
       "      <td>Metabolite1</td>\n",
       "      <td>Control</td>\n",
       "      <td>5</td>\n",
       "      <td>84.938922</td>\n",
       "      <td>uM</td>\n",
       "    </tr>\n",
       "    <tr>\n",
       "      <th>...</th>\n",
       "      <td>...</td>\n",
       "      <td>...</td>\n",
       "      <td>...</td>\n",
       "      <td>...</td>\n",
       "      <td>...</td>\n",
       "    </tr>\n",
       "    <tr>\n",
       "      <th>95</th>\n",
       "      <td>Metabolite10</td>\n",
       "      <td>Treatment</td>\n",
       "      <td>1</td>\n",
       "      <td>82.007579</td>\n",
       "      <td>uM</td>\n",
       "    </tr>\n",
       "    <tr>\n",
       "      <th>96</th>\n",
       "      <td>Metabolite10</td>\n",
       "      <td>Treatment</td>\n",
       "      <td>2</td>\n",
       "      <td>81.219333</td>\n",
       "      <td>uM</td>\n",
       "    </tr>\n",
       "    <tr>\n",
       "      <th>97</th>\n",
       "      <td>Metabolite10</td>\n",
       "      <td>Treatment</td>\n",
       "      <td>3</td>\n",
       "      <td>83.688874</td>\n",
       "      <td>uM</td>\n",
       "    </tr>\n",
       "    <tr>\n",
       "      <th>98</th>\n",
       "      <td>Metabolite10</td>\n",
       "      <td>Treatment</td>\n",
       "      <td>4</td>\n",
       "      <td>82.007579</td>\n",
       "      <td>uM</td>\n",
       "    </tr>\n",
       "    <tr>\n",
       "      <th>99</th>\n",
       "      <td>Metabolite10</td>\n",
       "      <td>Treatment</td>\n",
       "      <td>5</td>\n",
       "      <td>82.007579</td>\n",
       "      <td>uM</td>\n",
       "    </tr>\n",
       "  </tbody>\n",
       "</table>\n",
       "<p>100 rows × 5 columns</p>\n",
       "</div>"
      ],
      "text/plain": [
       "      Metabolite  Condition  Replicate  Concentration Units\n",
       "0    Metabolite1    Control          1      80.281301    uM\n",
       "1    Metabolite1    Control          2      84.658008    uM\n",
       "2    Metabolite1    Control          3      75.872092    uM\n",
       "3    Metabolite1    Control          4      75.872174    uM\n",
       "4    Metabolite1    Control          5      84.938922    uM\n",
       "..           ...        ...        ...            ...   ...\n",
       "95  Metabolite10  Treatment          1      82.007579    uM\n",
       "96  Metabolite10  Treatment          2      81.219333    uM\n",
       "97  Metabolite10  Treatment          3      83.688874    uM\n",
       "98  Metabolite10  Treatment          4      82.007579    uM\n",
       "99  Metabolite10  Treatment          5      82.007579    uM\n",
       "\n",
       "[100 rows x 5 columns]"
      ]
     },
     "execution_count": 4,
     "metadata": {},
     "output_type": "execute_result"
    }
   ],
   "source": [
    "def handle_outliers(data):\n",
    "    def replace_outliers(group):\n",
    "       # Detect the outliers\n",
    "        q1 = group.quantile(0.25)\n",
    "        q3 = group.quantile(0.75)\n",
    "        iqr = q3 - q1\n",
    "        lower = q1 - 1.5 * iqr\n",
    "        upper = q3 + 1.5 * iqr\n",
    "\n",
    "       # Replace the outliers\n",
    "        group[(group<lower)|(group>upper)]=group.median()\n",
    "        return group\n",
    "    data['Concentration']=data.groupby(['Metabolite','Condition'])['Concentration'].transform(replace_outliers)\n",
    "    return data\n",
    "\n",
    "handle_outliers(df)"
   ]
  },
  {
   "cell_type": "markdown",
   "id": "0ea4f007",
   "metadata": {},
   "source": [
    "## Calculate Summary Statistics"
   ]
  },
  {
   "cell_type": "code",
   "execution_count": 5,
   "id": "76e5d265",
   "metadata": {},
   "outputs": [
    {
     "data": {
      "text/html": [
       "<div>\n",
       "<style scoped>\n",
       "    .dataframe tbody tr th:only-of-type {\n",
       "        vertical-align: middle;\n",
       "    }\n",
       "\n",
       "    .dataframe tbody tr th {\n",
       "        vertical-align: top;\n",
       "    }\n",
       "\n",
       "    .dataframe thead th {\n",
       "        text-align: right;\n",
       "    }\n",
       "</style>\n",
       "<table border=\"1\" class=\"dataframe\">\n",
       "  <thead>\n",
       "    <tr style=\"text-align: right;\">\n",
       "      <th></th>\n",
       "      <th>Metabolite</th>\n",
       "      <th>Condition</th>\n",
       "      <th>mean</th>\n",
       "      <th>median</th>\n",
       "      <th>std</th>\n",
       "    </tr>\n",
       "  </thead>\n",
       "  <tbody>\n",
       "    <tr>\n",
       "      <th>0</th>\n",
       "      <td>Metabolite1</td>\n",
       "      <td>Control</td>\n",
       "      <td>80.324499</td>\n",
       "      <td>80.281301</td>\n",
       "      <td>4.464336</td>\n",
       "    </tr>\n",
       "    <tr>\n",
       "      <th>1</th>\n",
       "      <td>Metabolite1</td>\n",
       "      <td>Treatment</td>\n",
       "      <td>74.719990</td>\n",
       "      <td>74.719990</td>\n",
       "      <td>0.004087</td>\n",
       "    </tr>\n",
       "    <tr>\n",
       "      <th>2</th>\n",
       "      <td>Metabolite10</td>\n",
       "      <td>Control</td>\n",
       "      <td>62.371444</td>\n",
       "      <td>62.048568</td>\n",
       "      <td>0.659852</td>\n",
       "    </tr>\n",
       "    <tr>\n",
       "      <th>3</th>\n",
       "      <td>Metabolite10</td>\n",
       "      <td>Treatment</td>\n",
       "      <td>82.186189</td>\n",
       "      <td>82.007579</td>\n",
       "      <td>0.906722</td>\n",
       "    </tr>\n",
       "    <tr>\n",
       "      <th>4</th>\n",
       "      <td>Metabolite2</td>\n",
       "      <td>Control</td>\n",
       "      <td>47.547589</td>\n",
       "      <td>47.547589</td>\n",
       "      <td>0.796456</td>\n",
       "    </tr>\n",
       "    <tr>\n",
       "      <th>5</th>\n",
       "      <td>Metabolite2</td>\n",
       "      <td>Treatment</td>\n",
       "      <td>49.955735</td>\n",
       "      <td>50.356504</td>\n",
       "      <td>6.000106</td>\n",
       "    </tr>\n",
       "    <tr>\n",
       "      <th>6</th>\n",
       "      <td>Metabolite3</td>\n",
       "      <td>Control</td>\n",
       "      <td>20.091708</td>\n",
       "      <td>19.783831</td>\n",
       "      <td>0.691423</td>\n",
       "    </tr>\n",
       "    <tr>\n",
       "      <th>7</th>\n",
       "      <td>Metabolite3</td>\n",
       "      <td>Treatment</td>\n",
       "      <td>43.169796</td>\n",
       "      <td>42.719539</td>\n",
       "      <td>6.465101</td>\n",
       "    </tr>\n",
       "    <tr>\n",
       "      <th>8</th>\n",
       "      <td>Metabolite4</td>\n",
       "      <td>Control</td>\n",
       "      <td>51.799399</td>\n",
       "      <td>52.060923</td>\n",
       "      <td>0.658357</td>\n",
       "    </tr>\n",
       "    <tr>\n",
       "      <th>9</th>\n",
       "      <td>Metabolite4</td>\n",
       "      <td>Treatment</td>\n",
       "      <td>48.801217</td>\n",
       "      <td>48.900887</td>\n",
       "      <td>0.752712</td>\n",
       "    </tr>\n",
       "    <tr>\n",
       "      <th>10</th>\n",
       "      <td>Metabolite5</td>\n",
       "      <td>Control</td>\n",
       "      <td>53.466520</td>\n",
       "      <td>54.182185</td>\n",
       "      <td>3.522192</td>\n",
       "    </tr>\n",
       "    <tr>\n",
       "      <th>11</th>\n",
       "      <td>Metabolite5</td>\n",
       "      <td>Treatment</td>\n",
       "      <td>53.651424</td>\n",
       "      <td>54.218082</td>\n",
       "      <td>3.945831</td>\n",
       "    </tr>\n",
       "    <tr>\n",
       "      <th>12</th>\n",
       "      <td>Metabolite6</td>\n",
       "      <td>Control</td>\n",
       "      <td>23.607715</td>\n",
       "      <td>23.453450</td>\n",
       "      <td>5.674057</td>\n",
       "    </tr>\n",
       "    <tr>\n",
       "      <th>13</th>\n",
       "      <td>Metabolite6</td>\n",
       "      <td>Treatment</td>\n",
       "      <td>27.439738</td>\n",
       "      <td>25.621681</td>\n",
       "      <td>2.663273</td>\n",
       "    </tr>\n",
       "    <tr>\n",
       "      <th>14</th>\n",
       "      <td>Metabolite7</td>\n",
       "      <td>Control</td>\n",
       "      <td>108.053252</td>\n",
       "      <td>150.000000</td>\n",
       "      <td>57.759273</td>\n",
       "    </tr>\n",
       "    <tr>\n",
       "      <th>15</th>\n",
       "      <td>Metabolite7</td>\n",
       "      <td>Treatment</td>\n",
       "      <td>29.384347</td>\n",
       "      <td>29.971337</td>\n",
       "      <td>1.662052</td>\n",
       "    </tr>\n",
       "    <tr>\n",
       "      <th>16</th>\n",
       "      <td>Metabolite8</td>\n",
       "      <td>Control</td>\n",
       "      <td>24.466194</td>\n",
       "      <td>24.186280</td>\n",
       "      <td>3.404304</td>\n",
       "    </tr>\n",
       "    <tr>\n",
       "      <th>17</th>\n",
       "      <td>Metabolite8</td>\n",
       "      <td>Treatment</td>\n",
       "      <td>25.168069</td>\n",
       "      <td>25.104182</td>\n",
       "      <td>3.308173</td>\n",
       "    </tr>\n",
       "    <tr>\n",
       "      <th>18</th>\n",
       "      <td>Metabolite9</td>\n",
       "      <td>Control</td>\n",
       "      <td>46.215224</td>\n",
       "      <td>46.931744</td>\n",
       "      <td>1.144872</td>\n",
       "    </tr>\n",
       "    <tr>\n",
       "      <th>19</th>\n",
       "      <td>Metabolite9</td>\n",
       "      <td>Treatment</td>\n",
       "      <td>43.556830</td>\n",
       "      <td>43.912895</td>\n",
       "      <td>1.185409</td>\n",
       "    </tr>\n",
       "  </tbody>\n",
       "</table>\n",
       "</div>"
      ],
      "text/plain": [
       "      Metabolite  Condition        mean      median        std\n",
       "0    Metabolite1    Control   80.324499   80.281301   4.464336\n",
       "1    Metabolite1  Treatment   74.719990   74.719990   0.004087\n",
       "2   Metabolite10    Control   62.371444   62.048568   0.659852\n",
       "3   Metabolite10  Treatment   82.186189   82.007579   0.906722\n",
       "4    Metabolite2    Control   47.547589   47.547589   0.796456\n",
       "5    Metabolite2  Treatment   49.955735   50.356504   6.000106\n",
       "6    Metabolite3    Control   20.091708   19.783831   0.691423\n",
       "7    Metabolite3  Treatment   43.169796   42.719539   6.465101\n",
       "8    Metabolite4    Control   51.799399   52.060923   0.658357\n",
       "9    Metabolite4  Treatment   48.801217   48.900887   0.752712\n",
       "10   Metabolite5    Control   53.466520   54.182185   3.522192\n",
       "11   Metabolite5  Treatment   53.651424   54.218082   3.945831\n",
       "12   Metabolite6    Control   23.607715   23.453450   5.674057\n",
       "13   Metabolite6  Treatment   27.439738   25.621681   2.663273\n",
       "14   Metabolite7    Control  108.053252  150.000000  57.759273\n",
       "15   Metabolite7  Treatment   29.384347   29.971337   1.662052\n",
       "16   Metabolite8    Control   24.466194   24.186280   3.404304\n",
       "17   Metabolite8  Treatment   25.168069   25.104182   3.308173\n",
       "18   Metabolite9    Control   46.215224   46.931744   1.144872\n",
       "19   Metabolite9  Treatment   43.556830   43.912895   1.185409"
      ]
     },
     "execution_count": 5,
     "metadata": {},
     "output_type": "execute_result"
    }
   ],
   "source": [
    "def calculate_summary(data):\n",
    "    summary = data.groupby(['Metabolite','Condition'])['Concentration'].agg(['mean','median','std']).reset_index()\n",
    "    return summary\n",
    "\n",
    "calculate_summary(df)    "
   ]
  },
  {
   "cell_type": "markdown",
   "id": "6bbf00e3",
   "metadata": {},
   "source": [
    "## Group and Aggregate Data"
   ]
  },
  {
   "cell_type": "code",
   "execution_count": 6,
   "id": "0e96a9c0",
   "metadata": {},
   "outputs": [
    {
     "data": {
      "text/html": [
       "<div>\n",
       "<style scoped>\n",
       "    .dataframe tbody tr th:only-of-type {\n",
       "        vertical-align: middle;\n",
       "    }\n",
       "\n",
       "    .dataframe tbody tr th {\n",
       "        vertical-align: top;\n",
       "    }\n",
       "\n",
       "    .dataframe thead th {\n",
       "        text-align: right;\n",
       "    }\n",
       "</style>\n",
       "<table border=\"1\" class=\"dataframe\">\n",
       "  <thead>\n",
       "    <tr style=\"text-align: right;\">\n",
       "      <th></th>\n",
       "      <th>Metabolite</th>\n",
       "      <th>Condition</th>\n",
       "      <th>Concentration</th>\n",
       "    </tr>\n",
       "  </thead>\n",
       "  <tbody>\n",
       "    <tr>\n",
       "      <th>0</th>\n",
       "      <td>Metabolite1</td>\n",
       "      <td>Control</td>\n",
       "      <td>80.324499</td>\n",
       "    </tr>\n",
       "    <tr>\n",
       "      <th>1</th>\n",
       "      <td>Metabolite1</td>\n",
       "      <td>Treatment</td>\n",
       "      <td>74.719990</td>\n",
       "    </tr>\n",
       "    <tr>\n",
       "      <th>2</th>\n",
       "      <td>Metabolite10</td>\n",
       "      <td>Control</td>\n",
       "      <td>62.371444</td>\n",
       "    </tr>\n",
       "    <tr>\n",
       "      <th>3</th>\n",
       "      <td>Metabolite10</td>\n",
       "      <td>Treatment</td>\n",
       "      <td>82.186189</td>\n",
       "    </tr>\n",
       "    <tr>\n",
       "      <th>4</th>\n",
       "      <td>Metabolite2</td>\n",
       "      <td>Control</td>\n",
       "      <td>47.547589</td>\n",
       "    </tr>\n",
       "    <tr>\n",
       "      <th>5</th>\n",
       "      <td>Metabolite2</td>\n",
       "      <td>Treatment</td>\n",
       "      <td>49.955735</td>\n",
       "    </tr>\n",
       "    <tr>\n",
       "      <th>6</th>\n",
       "      <td>Metabolite3</td>\n",
       "      <td>Control</td>\n",
       "      <td>20.091708</td>\n",
       "    </tr>\n",
       "    <tr>\n",
       "      <th>7</th>\n",
       "      <td>Metabolite3</td>\n",
       "      <td>Treatment</td>\n",
       "      <td>43.169796</td>\n",
       "    </tr>\n",
       "    <tr>\n",
       "      <th>8</th>\n",
       "      <td>Metabolite4</td>\n",
       "      <td>Control</td>\n",
       "      <td>51.799399</td>\n",
       "    </tr>\n",
       "    <tr>\n",
       "      <th>9</th>\n",
       "      <td>Metabolite4</td>\n",
       "      <td>Treatment</td>\n",
       "      <td>48.801217</td>\n",
       "    </tr>\n",
       "    <tr>\n",
       "      <th>10</th>\n",
       "      <td>Metabolite5</td>\n",
       "      <td>Control</td>\n",
       "      <td>53.466520</td>\n",
       "    </tr>\n",
       "    <tr>\n",
       "      <th>11</th>\n",
       "      <td>Metabolite5</td>\n",
       "      <td>Treatment</td>\n",
       "      <td>53.651424</td>\n",
       "    </tr>\n",
       "    <tr>\n",
       "      <th>12</th>\n",
       "      <td>Metabolite6</td>\n",
       "      <td>Control</td>\n",
       "      <td>23.607715</td>\n",
       "    </tr>\n",
       "    <tr>\n",
       "      <th>13</th>\n",
       "      <td>Metabolite6</td>\n",
       "      <td>Treatment</td>\n",
       "      <td>27.439738</td>\n",
       "    </tr>\n",
       "    <tr>\n",
       "      <th>14</th>\n",
       "      <td>Metabolite7</td>\n",
       "      <td>Control</td>\n",
       "      <td>108.053252</td>\n",
       "    </tr>\n",
       "    <tr>\n",
       "      <th>15</th>\n",
       "      <td>Metabolite7</td>\n",
       "      <td>Treatment</td>\n",
       "      <td>29.384347</td>\n",
       "    </tr>\n",
       "    <tr>\n",
       "      <th>16</th>\n",
       "      <td>Metabolite8</td>\n",
       "      <td>Control</td>\n",
       "      <td>24.466194</td>\n",
       "    </tr>\n",
       "    <tr>\n",
       "      <th>17</th>\n",
       "      <td>Metabolite8</td>\n",
       "      <td>Treatment</td>\n",
       "      <td>25.168069</td>\n",
       "    </tr>\n",
       "    <tr>\n",
       "      <th>18</th>\n",
       "      <td>Metabolite9</td>\n",
       "      <td>Control</td>\n",
       "      <td>46.215224</td>\n",
       "    </tr>\n",
       "    <tr>\n",
       "      <th>19</th>\n",
       "      <td>Metabolite9</td>\n",
       "      <td>Treatment</td>\n",
       "      <td>43.556830</td>\n",
       "    </tr>\n",
       "  </tbody>\n",
       "</table>\n",
       "</div>"
      ],
      "text/plain": [
       "      Metabolite  Condition  Concentration\n",
       "0    Metabolite1    Control      80.324499\n",
       "1    Metabolite1  Treatment      74.719990\n",
       "2   Metabolite10    Control      62.371444\n",
       "3   Metabolite10  Treatment      82.186189\n",
       "4    Metabolite2    Control      47.547589\n",
       "5    Metabolite2  Treatment      49.955735\n",
       "6    Metabolite3    Control      20.091708\n",
       "7    Metabolite3  Treatment      43.169796\n",
       "8    Metabolite4    Control      51.799399\n",
       "9    Metabolite4  Treatment      48.801217\n",
       "10   Metabolite5    Control      53.466520\n",
       "11   Metabolite5  Treatment      53.651424\n",
       "12   Metabolite6    Control      23.607715\n",
       "13   Metabolite6  Treatment      27.439738\n",
       "14   Metabolite7    Control     108.053252\n",
       "15   Metabolite7  Treatment      29.384347\n",
       "16   Metabolite8    Control      24.466194\n",
       "17   Metabolite8  Treatment      25.168069\n",
       "18   Metabolite9    Control      46.215224\n",
       "19   Metabolite9  Treatment      43.556830"
      ]
     },
     "execution_count": 6,
     "metadata": {},
     "output_type": "execute_result"
    }
   ],
   "source": [
    "def group_and_aggregate(data):\n",
    "    return data.groupby(['Metabolite','Condition'])['Concentration'].mean().reset_index()\n",
    "\n",
    "group_and_aggregate(df)    "
   ]
  },
  {
   "cell_type": "markdown",
   "id": "4e8ab689",
   "metadata": {},
   "source": [
    "## Data Visualization"
   ]
  },
  {
   "cell_type": "markdown",
   "id": "40839939",
   "metadata": {},
   "source": [
    "### Box Plot using Seaborn"
   ]
  },
  {
   "cell_type": "code",
   "execution_count": 7,
   "id": "d7e72048",
   "metadata": {},
   "outputs": [
    {
     "data": {
      "image/png": "[encoded data removed]",
      "text/plain": [
       "<Figure size 1000x600 with 1 Axes>"
      ]
     },
     "metadata": {},
     "output_type": "display_data"
    }
   ],
   "source": [
    "import seaborn as sns\n",
    "import matplotlib.pyplot as plt\n",
    "sns.set_theme(style=\"ticks\")\n",
    "fig, ax = plt.subplots(figsize=(10, 6))\n",
    "# Plot the orbital period with horizontal boxes\n",
    "sns.boxplot(\n",
    "    data=df, x=\"Metabolite\", y=\"Concentration\",hue=\"Metabolite\",\n",
    "    whis=[0, 100], width=.6, palette=\"vlag\", ax=ax\n",
    ")\n",
    "\n",
    "# Tweak the visual presentation\n",
    "ax.xaxis.grid(True)\n",
    "ax.set(ylabel=\"\")\n",
    "sns.despine(trim=True, left=True)"
   ]
  },
  {
   "cell_type": "markdown",
   "id": "18067f30",
   "metadata": {},
   "source": [
    "### Bar Plot using Matplotlib"
   ]
  },
  {
   "cell_type": "code",
   "execution_count": 8,
   "id": "4ab5dcdd",
   "metadata": {},
   "outputs": [
    {
     "data": {
      "image/png": "[encoded data removed]",
      "text/plain": [
       "<Figure size 640x480 with 1 Axes>"
      ]
     },
     "metadata": {},
     "output_type": "display_data"
    }
   ],
   "source": [
    "import matplotlib.pyplot as plt\n",
    "\n",
    "def plot_matplotlib(df):\n",
    "    mean_df = df.groupby(['Metabolite', 'Condition'])['Concentration'].mean().unstack()\n",
    "    mean_df.plot(kind='bar')\n",
    "    plt.title(\"Mean Concentration per Metabolite under Conditions\")\n",
    "    plt.ylabel(\"Concentration (µM)\")\n",
    "    plt.xticks(rotation=90)\n",
    "    plt.tight_layout()\n",
    "    plt.show()\n",
    "\n",
    "plot_matplotlib(df)\n"
   ]
  },
  {
   "cell_type": "markdown",
   "id": "eca3f3ee",
   "metadata": {},
   "source": [
    "### Line Plot using Plotly"
   ]
  },
  {
   "cell_type": "code",
   "execution_count": 9,
   "id": "d1b7dc13",
   "metadata": {},
   "outputs": [
    {
     "data": {
      "application/vnd.plotly.v1+json": {
       "config": {
        "plotlyServerURL": "https://plot.ly"
       },
       "data": [
        {
         "hovertemplate": "Condition=Control<br>Replicate=%{x}<br>Concentration=%{y}<extra></extra>",
         "legendgroup": "Control",
         "line": {
          "color": "#636efa",
          "dash": "solid"
         },
         "marker": {
          "symbol": "circle"
         },
         "mode": "lines",
         "name": "Control",
         "orientation": "v",
         "showlegend": true,
         "type": "scatter",
         "x": {
          "bdata": "AQIDBAU=",
          "dtype": "i1"
         },
         "xaxis": "x",
         "y": {
          "bdata": "KHg51gASVEDDLTDMHCpVQFix6VjQ91JAVPI3sdH3UkCJFT1OFzxVQA==",
          "dtype": "f8"
         },
         "yaxis": "y"
        },
        {
         "hovertemplate": "Condition=Treatment<br>Replicate=%{x}<br>Concentration=%{y}<extra></extra>",
         "legendgroup": "Treatment",
         "line": {
          "color": "#EF553B",
          "dash": "solid"
         },
         "marker": {
          "symbol": "circle"
         },
         "mode": "lines",
         "name": "Treatment",
         "orientation": "v",
         "showlegend": true,
         "type": "scatter",
         "x": {
          "bdata": "AQIDBAU=",
          "dtype": "i1"
         },
         "xaxis": "x",
         "y": {
          "bdata": "XHD3TxSuUkBccPdPFK5SQFxw908UrlJA70auA3OuUkDImUCcta1SQA==",
          "dtype": "f8"
         },
         "yaxis": "y"
        }
       ],
       "layout": {
        "legend": {
         "title": {
          "text": "Condition"
         },
         "tracegroupgap": 0
        },
        "template": {
         "data": {
          "bar": [
           {
            "error_x": {
             "color": "#2a3f5f"
            },
            "error_y": {
             "color": "#2a3f5f"
            },
            "marker": {
             "line": {
              "color": "#E5ECF6",
              "width": 0.5
             },
             "pattern": {
              "fillmode": "overlay",
              "size": 10,
              "solidity": 0.2
             }
            },
            "type": "bar"
           }
          ],
          "barpolar": [
           {
            "marker": {
             "line": {
              "color": "#E5ECF6",
              "width": 0.5
             },
             "pattern": {
              "fillmode": "overlay",
              "size": 10,
              "solidity": 0.2
             }
            },
            "type": "barpolar"
           }
          ],
          "carpet": [
           {
            "aaxis": {
             "endlinecolor": "#2a3f5f",
             "gridcolor": "white",
             "linecolor": "white",
             "minorgridcolor": "white",
             "startlinecolor": "#2a3f5f"
            },
            "baxis": {
             "endlinecolor": "#2a3f5f",
             "gridcolor": "white",
             "linecolor": "white",
             "minorgridcolor": "white",
             "startlinecolor": "#2a3f5f"
            },
            "type": "carpet"
           }
          ],
          "choropleth": [
           {
            "colorbar": {
             "outlinewidth": 0,
             "ticks": ""
            },
            "type": "choropleth"
           }
          ],
          "contour": [
           {
            "colorbar": {
             "outlinewidth": 0,
             "ticks": ""
            },
            "colorscale": [
             [
              0,
              "#0d0887"
             ],
             [
              0.1111111111111111,
              "#46039f"
             ],
             [
              0.2222222222222222,
              "#7201a8"
             ],
             [
              0.3333333333333333,
              "#9c179e"
             ],
             [
              0.4444444444444444,
              "#bd3786"
             ],
             [
              0.5555555555555556,
              "#d8576b"
             ],
             [
              0.6666666666666666,
              "#ed7953"
             ],
             [
              0.7777777777777778,
              "#fb9f3a"
             ],
             [
              0.8888888888888888,
              "#fdca26"
             ],
             [
              1,
              "#f0f921"
             ]
            ],
            "type": "contour"
           }
          ],
          "contourcarpet": [
           {
            "colorbar": {
             "outlinewidth": 0,
             "ticks": ""
            },
            "type": "contourcarpet"
           }
          ],
          "heatmap": [
           {
            "colorbar": {
             "outlinewidth": 0,
             "ticks": ""
            },
            "colorscale": [
             [
              0,
              "#0d0887"
             ],
             [
              0.1111111111111111,
              "#46039f"
             ],
             [
              0.2222222222222222,
              "#7201a8"
             ],
             [
              0.3333333333333333,
              "#9c179e"
             ],
             [
              0.4444444444444444,
              "#bd3786"
             ],
             [
              0.5555555555555556,
              "#d8576b"
             ],
             [
              0.6666666666666666,
              "#ed7953"
             ],
             [
              0.7777777777777778,
              "#fb9f3a"
             ],
             [
              0.8888888888888888,
              "#fdca26"
             ],
             [
              1,
              "#f0f921"
             ]
            ],
            "type": "heatmap"
           }
          ],
          "histogram": [
           {
            "marker": {
             "pattern": {
              "fillmode": "overlay",
              "size": 10,
              "solidity": 0.2
             }
            },
            "type": "histogram"
           }
          ],
          "histogram2d": [
           {
            "colorbar": {
             "outlinewidth": 0,
             "ticks": ""
            },
            "colorscale": [
             [
              0,
              "#0d0887"
             ],
             [
              0.1111111111111111,
              "#46039f"
             ],
             [
              0.2222222222222222,
              "#7201a8"
             ],
             [
              0.3333333333333333,
              "#9c179e"
             ],
             [
              0.4444444444444444,
              "#bd3786"
             ],
             [
              0.5555555555555556,
              "#d8576b"
             ],
             [
              0.6666666666666666,
              "#ed7953"
             ],
             [
              0.7777777777777778,
              "#fb9f3a"
             ],
             [
              0.8888888888888888,
              "#fdca26"
             ],
             [
              1,
              "#f0f921"
             ]
            ],
            "type": "histogram2d"
           }
          ],
          "histogram2dcontour": [
           {
            "colorbar": {
             "outlinewidth": 0,
             "ticks": ""
            },
            "colorscale": [
             [
              0,
              "#0d0887"
             ],
             [
              0.1111111111111111,
              "#46039f"
             ],
             [
              0.2222222222222222,
              "#7201a8"
             ],
             [
              0.3333333333333333,
              "#9c179e"
             ],
             [
              0.4444444444444444,
              "#bd3786"
             ],
             [
              0.5555555555555556,
              "#d8576b"
             ],
             [
              0.6666666666666666,
              "#ed7953"
             ],
             [
              0.7777777777777778,
              "#fb9f3a"
             ],
             [
              0.8888888888888888,
              "#fdca26"
             ],
             [
              1,
              "#f0f921"
             ]
            ],
            "type": "histogram2dcontour"
           }
          ],
          "mesh3d": [
           {
            "colorbar": {
             "outlinewidth": 0,
             "ticks": ""
            },
            "type": "mesh3d"
           }
          ],
          "parcoords": [
           {
            "line": {
             "colorbar": {
              "outlinewidth": 0,
              "ticks": ""
             }
            },
            "type": "parcoords"
           }
          ],
          "pie": [
           {
            "automargin": true,
            "type": "pie"
           }
          ],
          "scatter": [
           {
            "fillpattern": {
             "fillmode": "overlay",
             "size": 10,
             "solidity": 0.2
            },
            "type": "scatter"
           }
          ],
          "scatter3d": [
           {
            "line": {
             "colorbar": {
              "outlinewidth": 0,
              "ticks": ""
             }
            },
            "marker": {
             "colorbar": {
              "outlinewidth": 0,
              "ticks": ""
             }
            },
            "type": "scatter3d"
           }
          ],
          "scattercarpet": [
           {
            "marker": {
             "colorbar": {
              "outlinewidth": 0,
              "ticks": ""
             }
            },
            "type": "scattercarpet"
           }
          ],
          "scattergeo": [
           {
            "marker": {
             "colorbar": {
              "outlinewidth": 0,
              "ticks": ""
             }
            },
            "type": "scattergeo"
           }
          ],
          "scattergl": [
           {
            "marker": {
             "colorbar": {
              "outlinewidth": 0,
              "ticks": ""
             }
            },
            "type": "scattergl"
           }
          ],
          "scattermap": [
           {
            "marker": {
             "colorbar": {
              "outlinewidth": 0,
              "ticks": ""
             }
            },
            "type": "scattermap"
           }
          ],
          "scattermapbox": [
           {
            "marker": {
             "colorbar": {
              "outlinewidth": 0,
              "ticks": ""
             }
            },
            "type": "scattermapbox"
           }
          ],
          "scatterpolar": [
           {
            "marker": {
             "colorbar": {
              "outlinewidth": 0,
              "ticks": ""
             }
            },
            "type": "scatterpolar"
           }
          ],
          "scatterpolargl": [
           {
            "marker": {
             "colorbar": {
              "outlinewidth": 0,
              "ticks": ""
             }
            },
            "type": "scatterpolargl"
           }
          ],
          "scatterternary": [
           {
            "marker": {
             "colorbar": {
              "outlinewidth": 0,
              "ticks": ""
             }
            },
            "type": "scatterternary"
           }
          ],
          "surface": [
           {
            "colorbar": {
             "outlinewidth": 0,
             "ticks": ""
            },
            "colorscale": [
             [
              0,
              "#0d0887"
             ],
             [
              0.1111111111111111,
              "#46039f"
             ],
             [
              0.2222222222222222,
              "#7201a8"
             ],
             [
              0.3333333333333333,
              "#9c179e"
             ],
             [
              0.4444444444444444,
              "#bd3786"
             ],
             [
              0.5555555555555556,
              "#d8576b"
             ],
             [
              0.6666666666666666,
              "#ed7953"
             ],
             [
              0.7777777777777778,
              "#fb9f3a"
             ],
             [
              0.8888888888888888,
              "#fdca26"
             ],
             [
              1,
              "#f0f921"
             ]
            ],
            "type": "surface"
           }
          ],
          "table": [
           {
            "cells": {
             "fill": {
              "color": "#EBF0F8"
             },
             "line": {
              "color": "white"
             }
            },
            "header": {
             "fill": {
              "color": "#C8D4E3"
             },
             "line": {
              "color": "white"
             }
            },
            "type": "table"
           }
          ]
         },
         "layout": {
          "annotationdefaults": {
           "arrowcolor": "#2a3f5f",
           "arrowhead": 0,
           "arrowwidth": 1
          },
          "autotypenumbers": "strict",
          "coloraxis": {
           "colorbar": {
            "outlinewidth": 0,
            "ticks": ""
           }
          },
          "colorscale": {
           "diverging": [
            [
             0,
             "#8e0152"
            ],
            [
             0.1,
             "#c51b7d"
            ],
            [
             0.2,
             "#de77ae"
            ],
            [
             0.3,
             "#f1b6da"
            ],
            [
             0.4,
             "#fde0ef"
            ],
            [
             0.5,
             "#f7f7f7"
            ],
            [
             0.6,
             "#e6f5d0"
            ],
            [
             0.7,
             "#b8e186"
            ],
            [
             0.8,
             "#7fbc41"
            ],
            [
             0.9,
             "#4d9221"
            ],
            [
             1,
             "#276419"
            ]
           ],
           "sequential": [
            [
             0,
             "#0d0887"
            ],
            [
             0.1111111111111111,
             "#46039f"
            ],
            [
             0.2222222222222222,
             "#7201a8"
            ],
            [
             0.3333333333333333,
             "#9c179e"
            ],
            [
             0.4444444444444444,
             "#bd3786"
            ],
            [
             0.5555555555555556,
             "#d8576b"
            ],
            [
             0.6666666666666666,
             "#ed7953"
            ],
            [
             0.7777777777777778,
             "#fb9f3a"
            ],
            [
             0.8888888888888888,
             "#fdca26"
            ],
            [
             1,
             "#f0f921"
            ]
           ],
           "sequentialminus": [
            [
             0,
             "#0d0887"
            ],
            [
             0.1111111111111111,
             "#46039f"
            ],
            [
             0.2222222222222222,
             "#7201a8"
            ],
            [
             0.3333333333333333,
             "#9c179e"
            ],
            [
             0.4444444444444444,
             "#bd3786"
            ],
            [
             0.5555555555555556,
             "#d8576b"
            ],
            [
             0.6666666666666666,
             "#ed7953"
            ],
            [
             0.7777777777777778,
             "#fb9f3a"
            ],
            [
             0.8888888888888888,
             "#fdca26"
            ],
            [
             1,
             "#f0f921"
            ]
           ]
          },
          "colorway": [
           "#636efa",
           "#EF553B",
           "#00cc96",
           "#ab63fa",
           "#FFA15A",
           "#19d3f3",
           "#FF6692",
           "#B6E880",
           "#FF97FF",
           "#FECB52"
          ],
          "font": {
           "color": "#2a3f5f"
          },
          "geo": {
           "bgcolor": "white",
           "lakecolor": "white",
           "landcolor": "#E5ECF6",
           "showlakes": true,
           "showland": true,
           "subunitcolor": "white"
          },
          "hoverlabel": {
           "align": "left"
          },
          "hovermode": "closest",
          "mapbox": {
           "style": "light"
          },
          "paper_bgcolor": "white",
          "plot_bgcolor": "#E5ECF6",
          "polar": {
           "angularaxis": {
            "gridcolor": "white",
            "linecolor": "white",
            "ticks": ""
           },
           "bgcolor": "#E5ECF6",
           "radialaxis": {
            "gridcolor": "white",
            "linecolor": "white",
            "ticks": ""
           }
          },
          "scene": {
           "xaxis": {
            "backgroundcolor": "#E5ECF6",
            "gridcolor": "white",
            "gridwidth": 2,
            "linecolor": "white",
            "showbackground": true,
            "ticks": "",
            "zerolinecolor": "white"
           },
           "yaxis": {
            "backgroundcolor": "#E5ECF6",
            "gridcolor": "white",
            "gridwidth": 2,
            "linecolor": "white",
            "showbackground": true,
            "ticks": "",
            "zerolinecolor": "white"
           },
           "zaxis": {
            "backgroundcolor": "#E5ECF6",
            "gridcolor": "white",
            "gridwidth": 2,
            "linecolor": "white",
            "showbackground": true,
            "ticks": "",
            "zerolinecolor": "white"
           }
          },
          "shapedefaults": {
           "line": {
            "color": "#2a3f5f"
           }
          },
          "ternary": {
           "aaxis": {
            "gridcolor": "white",
            "linecolor": "white",
            "ticks": ""
           },
           "baxis": {
            "gridcolor": "white",
            "linecolor": "white",
            "ticks": ""
           },
           "bgcolor": "#E5ECF6",
           "caxis": {
            "gridcolor": "white",
            "linecolor": "white",
            "ticks": ""
           }
          },
          "title": {
           "x": 0.05
          },
          "xaxis": {
           "automargin": true,
           "gridcolor": "white",
           "linecolor": "white",
           "ticks": "",
           "title": {
            "standoff": 15
           },
           "zerolinecolor": "white",
           "zerolinewidth": 2
          },
          "yaxis": {
           "automargin": true,
           "gridcolor": "white",
           "linecolor": "white",
           "ticks": "",
           "title": {
            "standoff": 15
           },
           "zerolinecolor": "white",
           "zerolinewidth": 2
          }
         }
        },
        "title": {
         "text": "Concentration Trends for Metabolite1"
        },
        "xaxis": {
         "anchor": "y",
         "domain": [
          0,
          1
         ],
         "title": {
          "text": "Replicate"
         }
        },
        "yaxis": {
         "anchor": "x",
         "domain": [
          0,
          1
         ],
         "title": {
          "text": "Concentration"
         }
        }
       }
      }
     },
     "metadata": {},
     "output_type": "display_data"
    }
   ],
   "source": [
    "import plotly.express as px\n",
    "\n",
    "def plot_plotly(data):\n",
    "    metabolite_name= data['Metabolite'].unique()[0]\n",
    "    metabolite_data= data[data['Metabolite']==metabolite_name]\n",
    "    fig = px.line(metabolite_data, x='Replicate', y='Concentration', color='Condition',\n",
    "                  title=f'Concentration Trends for {metabolite_name}')\n",
    "    fig.show()\n",
    "\n",
    "plot_plotly(df)    "
   ]
  }
 ],
 "metadata": {
  "kernelspec": {
   "display_name": "python_basics",
   "language": "python",
   "name": "python3"
  },
  "language_info": {
   "codemirror_mode": {
    "name": "ipython",
    "version": 3
   },
   "file_extension": ".py",
   "mimetype": "text/x-python",
   "name": "python",
   "nbconvert_exporter": "python",
   "pygments_lexer": "ipython3",
   "version": "3.9.23"
  }
 },
 "nbformat": 4,
 "nbformat_minor": 5
}
